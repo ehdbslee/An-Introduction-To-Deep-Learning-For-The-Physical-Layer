{
 "cells": [
  {
   "cell_type": "markdown",
   "metadata": {},
   "source": [
    "***Import Libraries***"
   ]
  },
  {
   "cell_type": "code",
   "execution_count": 1,
   "metadata": {},
   "outputs": [
    {
     "data": {
      "text/plain": [
       "<torch._C.Generator at 0x24ab38309f0>"
      ]
     },
     "execution_count": 1,
     "metadata": {},
     "output_type": "execute_result"
    }
   ],
   "source": [
    "import torch\n",
    "import torchvision\n",
    "import torchvision.transforms as transforms\n",
    "import torchvision.datasets as datasets\n",
    "import torch.nn.functional as F\n",
    "import torch.nn as nn\n",
    "\n",
    "import matplotlib.pyplot as plt\n",
    "import numpy as np\n",
    "\n",
    "torch.manual_seed(0)"
   ]
  },
  {
   "cell_type": "markdown",
   "metadata": {},
   "source": [
    "***Hyper Parameters***"
   ]
  },
  {
   "cell_type": "code",
   "execution_count": 2,
   "metadata": {},
   "outputs": [],
   "source": [
    "device = torch.device('cuda:0') if torch.cuda.is_available() else torch.device('cpu')\n",
    "\n",
    "k = 2   #메시지 비트수\n",
    "M = 2**k    #전송 가능한 메시지 수\n",
    "n = 2   #인코딩 출력 차원\n",
    "\n",
    "SNR_dB = np.arange(-2,16, 1)\n",
    "idx = 8 #훈련 코드의 SNR_dB 과 매칭\n",
    "\n",
    "num_msgs = 100000\n",
    "\n",
    "ENC_MODEL_PATH = f\"M={M}/Enc_M={M}_SNR={idx}.pth\"\n",
    "DEC_MODEL_PATH = f\"M={M}/Dec_M={M}_SNR={idx}.pth\""
   ]
  },
  {
   "cell_type": "markdown",
   "metadata": {},
   "source": [
    "***Functions***"
   ]
  },
  {
   "cell_type": "code",
   "execution_count": 3,
   "metadata": {},
   "outputs": [],
   "source": [
    "def Normalization(s):\n",
    "    snorm = torch.linalg.norm(s, dim=1)\n",
    "    snorm = torch.tile(snorm.unsqueeze(1), [1,n])\n",
    "    snorm = snorm.to(device)\n",
    "    return s/snorm\n",
    "\n",
    "\n",
    "def Awgn(x, noise_var):\n",
    "    noise = torch.randn((x.size(0),n))\n",
    "    noise = noise.to(device)\n",
    "    out = x + np.sqrt(noise_var) * noise\n",
    "    return out\n",
    "\n",
    "\n",
    "def one_hot_encoding(val):\n",
    "    xx = torch.eye(M)\n",
    "    xx = xx.to(device)\n",
    "    return xx[val] \n",
    "\n",
    "\n",
    "def one_hot_decoding(prob):\n",
    "    arg_list = []\n",
    "    for p in prob:\n",
    "        arg_max = torch.argmax(p)\n",
    "\n",
    "        arg_max.to(device)\n",
    "\n",
    "        arg_list.append(arg_max)\n",
    "        arg_list = list(map(int, arg_list))\n",
    "\n",
    "    arg_list = torch.LongTensor(arg_list)\n",
    "    encoded_arg_list = one_hot_encoding(arg_list)\n",
    "\n",
    "    return encoded_arg_list"
   ]
  },
  {
   "cell_type": "markdown",
   "metadata": {},
   "source": [
    "***Model***"
   ]
  },
  {
   "cell_type": "code",
   "execution_count": 4,
   "metadata": {},
   "outputs": [],
   "source": [
    "class Encoder(nn.Module):\n",
    "    def __init__(self):\n",
    "        super(Encoder, self).__init__()\n",
    "\n",
    "        self.encoder = nn.Sequential(\n",
    "            nn.Linear(M, M),\n",
    "            nn.ReLU(),\n",
    "            nn.Linear(M, n)\n",
    "        )\n",
    "\n",
    "    def forward(self, s):\n",
    "        out = self.encoder(s)\n",
    "        return out\n",
    "\n",
    "\n",
    "class Decoder(nn.Module):\n",
    "    def __init__(self):\n",
    "        super(Decoder, self).__init__()\n",
    "\n",
    "        self.decoder = nn.Sequential(\n",
    "            nn.Linear(n, M),\n",
    "            nn.ReLU(),\n",
    "            nn.Linear(M, M),\n",
    "            nn.Softmax(dim=1)\n",
    "        )\n",
    "\n",
    "    def forward(self, y):\n",
    "        out = self.decoder(y)\n",
    "        return out"
   ]
  },
  {
   "cell_type": "markdown",
   "metadata": {},
   "source": [
    "***BLER***"
   ]
  },
  {
   "cell_type": "code",
   "execution_count": 5,
   "metadata": {},
   "outputs": [
    {
     "name": "stdout",
     "output_type": "stream",
     "text": [
      "SNR = -2 Noise Var = 1.5848931924611134\n",
      "Block Error Rate : 0.4912\n",
      "\n",
      "SNR = -1 Noise Var = 1.2589254117941673\n",
      "Block Error Rate : 0.45813\n",
      "\n",
      "SNR = 0 Noise Var = 1.0\n",
      "Block Error Rate : 0.42107\n",
      "\n",
      "SNR = 1 Noise Var = 0.7943282347242815\n",
      "Block Error Rate : 0.37991\n",
      "\n",
      "SNR = 2 Noise Var = 0.6309573444801932\n",
      "Block Error Rate : 0.33668\n",
      "\n",
      "SNR = 3 Noise Var = 0.5011872336272724\n",
      "Block Error Rate : 0.29182\n",
      "\n",
      "SNR = 4 Noise Var = 0.39810717055349726\n",
      "Block Error Rate : 0.24446\n",
      "\n",
      "SNR = 5 Noise Var = 0.31622776601683794\n",
      "Block Error Rate : 0.19861\n",
      "\n",
      "SNR = 6 Noise Var = 0.251188643150958\n",
      "Block Error Rate : 0.15169\n",
      "\n",
      "SNR = 7 Noise Var = 0.199526231496888\n",
      "Block Error Rate : 0.1106\n",
      "\n",
      "SNR = 8 Noise Var = 0.15848931924611132\n",
      "Block Error Rate : 0.07436\n",
      "\n",
      "SNR = 9 Noise Var = 0.1258925411794167\n",
      "Block Error Rate : 0.04505\n",
      "\n",
      "SNR = 10 Noise Var = 0.1\n",
      "Block Error Rate : 0.02483\n",
      "\n",
      "SNR = 11 Noise Var = 0.07943282347242814\n",
      "Block Error Rate : 0.0127\n",
      "\n",
      "SNR = 12 Noise Var = 0.06309573444801933\n",
      "Block Error Rate : 0.00472\n",
      "\n",
      "SNR = 13 Noise Var = 0.05011872336272723\n",
      "Block Error Rate : 0.00157\n",
      "\n",
      "SNR = 14 Noise Var = 0.039810717055349734\n",
      "Block Error Rate : 0.00036\n",
      "\n",
      "SNR = 15 Noise Var = 0.03162277660168379\n",
      "Block Error Rate : 7e-05\n",
      "\n",
      "test finished!\n",
      "\n"
     ]
    }
   ],
   "source": [
    "BLER = []\n",
    "\n",
    "#===== Model Generate =====#\n",
    "\n",
    "encoder = Encoder() \n",
    "decoder = Decoder()\n",
    "encoder.to(device)\n",
    "decoder.to(device)\n",
    "\n",
    "encoder.load_state_dict(torch.load(ENC_MODEL_PATH))\n",
    "decoder.load_state_dict(torch.load(DEC_MODEL_PATH))\n",
    "\n",
    "with open(f'M={M}/BLER_M={M}_SNR={idx}.txt', 'a') as f:\n",
    "    f.truncate(0)\n",
    "\n",
    "for i, (snr) in enumerate(SNR_dB):\n",
    "    SNR = 10**(snr/10)\n",
    "    N = 1/SNR   #Noise std\n",
    "\n",
    "    print(f\"SNR = {snr} Noise Var = {N}\")\n",
    "\n",
    "    #===== Test =====#\n",
    "    err = 0\n",
    "    a = 0\n",
    "                \n",
    "    while a != M:\n",
    "        msg = torch.randint(0, M, (num_msgs,))#msg\n",
    "        a = torch.max(msg) + 1\n",
    "\n",
    "    msg.to(device)\n",
    "\n",
    "    s = one_hot_encoding(msg) #s\n",
    "    encoded_s = encoder(s)  #x\n",
    "    x = Normalization(encoded_s)\n",
    "    y = Awgn(x, N)    #y\n",
    "    p = decoder(y)\n",
    "    s_hat = one_hot_decoding(p)\n",
    "\n",
    "    err = torch.sum(torch.abs(s - s_hat)) / 2\n",
    "    err = err.cpu().detach().numpy()\n",
    "    \n",
    "    BLER.append(err/num_msgs)\n",
    "    print(f\"Block Error Rate : {err/num_msgs}\\n\")\n",
    "    \n",
    "    with open(f'M={M}/BLER_M={M}_SNR={idx}.txt', 'a') as f:\n",
    "        f.write(f'{snr} {BLER[i]}\\n')\n",
    "\n",
    "print(\"test finished!\\n\")\n"
   ]
  },
  {
   "cell_type": "code",
   "execution_count": 6,
   "metadata": {},
   "outputs": [
    {
     "data": {
      "image/png": "[encoded data removed]",
      "text/plain": [
       "<Figure size 432x288 with 1 Axes>"
      ]
     },
     "metadata": {
      "needs_background": "light"
     },
     "output_type": "display_data"
    }
   ],
   "source": [
    "plt.plot(SNR_dB, BLER)\n",
    "\n",
    "plt.xlabel(\"SNR [dB]\")\n",
    "plt.ylabel(\"Block error rate\")\n",
    "plt.yscale('log')\n",
    "plt.title(f\"Train SNR:{idx}\")\n",
    "\n",
    "\n",
    "plt.grid()\n",
    "plt.show()"
   ]
  }
 ],
 "metadata": {
  "interpreter": {
   "hash": "36b28c691283740da8fac429d25fdbdfa5fc153c522ef0a5c3318a9b3b280dc3"
  },
  "kernelspec": {
   "display_name": "Python 3.8.8 64-bit ('base': conda)",
   "language": "python",
   "name": "python3"
  },
  "language_info": {
   "codemirror_mode": {
    "name": "ipython",
    "version": 3
   },
   "file_extension": ".py",
   "mimetype": "text/x-python",
   "name": "python",
   "nbconvert_exporter": "python",
   "pygments_lexer": "ipython3",
   "version": "3.8.8"
  },
  "orig_nbformat": 4
 },
 "nbformat": 4,
 "nbformat_minor": 2
}
