{
 "cells": [
  {
   "cell_type": "markdown",
   "metadata": {},
   "source": [
    "***Import Libraries***"
   ]
  },
  {
   "cell_type": "code",
   "execution_count": 9,
   "metadata": {},
   "outputs": [
    {
     "data": {
      "text/plain": [
       "<torch._C.Generator at 0x267582ce890>"
      ]
     },
     "execution_count": 9,
     "metadata": {},
     "output_type": "execute_result"
    }
   ],
   "source": [
    "import torch\n",
    "import torchvision\n",
    "import torchvision.transforms as transforms\n",
    "import torchvision.datasets as datasets\n",
    "import torch.nn.functional as F\n",
    "import torch.nn as nn\n",
    "\n",
    "import matplotlib.pyplot as plt\n",
    "import numpy as np\n",
    "\n",
    "torch.manual_seed(0)"
   ]
  },
  {
   "cell_type": "markdown",
   "metadata": {},
   "source": [
    "***Hyper Parameters***"
   ]
  },
  {
   "cell_type": "code",
   "execution_count": 10,
   "metadata": {},
   "outputs": [],
   "source": [
    "device = torch.device('cuda:0') if torch.cuda.is_available() else torch.device('cpu')\n",
    "\n",
    "k = 2  #메시지 비트수\n",
    "M = 2**k    #전송 가능한 메시지 수\n",
    "n = 2   #인코딩 출력 차원\n",
    "\n",
    "SNR_dB = 8\n",
    "SNR = 10**(SNR_dB/10)\n",
    "N = 1/SNR   #Noise std\n",
    "\n",
    "num_msgs = 5000\n",
    "learning_rate = 0.00017\n",
    "num_epochs = 30000\n",
    "\n",
    "ENC_MODEL_PATH = f\"M={M}/Enc_M={M}_SNR={SNR_dB}.pth\"\n",
    "DEC_MODEL_PATH = f\"M={M}/Dec_M={M}_SNR={SNR_dB}.pth\""
   ]
  },
  {
   "cell_type": "code",
   "execution_count": 11,
   "metadata": {},
   "outputs": [],
   "source": [
    "import os\n",
    "\n",
    "MODEL_DIR = f\"M={M}\"\n",
    "try:\n",
    "    os.makedirs(MODEL_DIR)\n",
    "except FileExistsError:\n",
    "    print('Directories not created because they already exist')"
   ]
  },
  {
   "cell_type": "markdown",
   "metadata": {},
   "source": [
    "***Functions***"
   ]
  },
  {
   "cell_type": "code",
   "execution_count": 12,
   "metadata": {},
   "outputs": [],
   "source": [
    "def Normalization(s):\n",
    "    snorm = torch.linalg.norm(s, dim=1)\n",
    "    snorm = torch.tile(snorm.unsqueeze(1), [1,n])\n",
    "    snorm = snorm.to(device)\n",
    "    return s/snorm\n",
    "\n",
    "\n",
    "def Awgn(x, noise_var):\n",
    "    noise = torch.randn((x.size(0),n))\n",
    "    noise = noise.to(device)\n",
    "    out = x + np.sqrt(noise_var) * noise\n",
    "    return out\n",
    "\n",
    "\n",
    "def one_hot_encoding(val):\n",
    "    xx = torch.eye(M)\n",
    "    xx = xx.to(device)\n",
    "    return xx[val] \n",
    "\n",
    "\n",
    "def one_hot_decoding(prob):\n",
    "    arg_list = []\n",
    "    for p in prob:\n",
    "        arg_max = torch.argmax(p)\n",
    "        arg_list.append(arg_max)\n",
    "        arg_list = list(map(int, arg_list))\n",
    "\n",
    "    arg_list = torch.LongTensor(arg_list)\n",
    "    encoded_arg_list = one_hot_encoding(arg_list)\n",
    "\n",
    "    return encoded_arg_list\n",
    "\n",
    "def Softmax(prob):\n",
    "    softmax = nn.Softmax(dim=1)\n",
    "    return softmax(prob)"
   ]
  },
  {
   "cell_type": "markdown",
   "metadata": {},
   "source": [
    "***Model***"
   ]
  },
  {
   "cell_type": "code",
   "execution_count": 13,
   "metadata": {},
   "outputs": [],
   "source": [
    "class Encoder(nn.Module):\n",
    "    def __init__(self):\n",
    "        super(Encoder, self).__init__()\n",
    "\n",
    "        self.encoder = nn.Sequential(\n",
    "            nn.Linear(M, M),\n",
    "            nn.ReLU(),\n",
    "            nn.Linear(M, n)\n",
    "        )\n",
    "\n",
    "    def forward(self, s):\n",
    "        out = self.encoder(s)\n",
    "        return out\n",
    "\n",
    "\n",
    "class Decoder(nn.Module):\n",
    "    def __init__(self):\n",
    "        super(Decoder, self).__init__()\n",
    "\n",
    "        self.decoder = nn.Sequential(\n",
    "            nn.Linear(n, M),\n",
    "            nn.ReLU(),\n",
    "            nn.Linear(M, M)\n",
    "        )\n",
    "\n",
    "    def forward(self, y):\n",
    "        out = self.decoder(y)\n",
    "        return out\n",
    "\n",
    "\n",
    "encoder = Encoder()    \n",
    "decoder = Decoder()\n",
    "encoder = encoder.to(device)  ###############\n",
    "decoder = decoder.to(device)  ###############\n",
    "\n",
    "optimizer = torch.optim.Adam(list(encoder.parameters()) + list(decoder.parameters()), lr = learning_rate)\n",
    "criterion = nn.CrossEntropyLoss()"
   ]
  },
  {
   "cell_type": "markdown",
   "metadata": {},
   "source": [
    "***Train***"
   ]
  },
  {
   "cell_type": "code",
   "execution_count": 14,
   "metadata": {},
   "outputs": [
    {
     "name": "stdout",
     "output_type": "stream",
     "text": [
      "[0/30000] train loss : 1.600731372833252 | test loss : 1.605759620666504 | BLER : 0.7411999702453613\n",
      "[1000/30000] train loss : 1.2749141454696655 | test loss : 1.2823338508605957 | BLER : 0.5209999680519104\n",
      "[2000/30000] train loss : 0.8978156447410583 | test loss : 0.8908403515815735 | BLER : 0.16380000114440918\n",
      "[3000/30000] train loss : 0.6307387948036194 | test loss : 0.621244490146637 | BLER : 0.08899999409914017\n",
      "[4000/30000] train loss : 0.44434115290641785 | test loss : 0.45445796847343445 | BLER : 0.08399999886751175\n",
      "[5000/30000] train loss : 0.3384125828742981 | test loss : 0.3434635102748871 | BLER : 0.07639999687671661\n",
      "[6000/30000] train loss : 0.28179195523262024 | test loss : 0.2888234555721283 | BLER : 0.08259999752044678\n",
      "[7000/30000] train loss : 0.2424624264240265 | test loss : 0.2545818090438843 | BLER : 0.07759999483823776\n",
      "[8000/30000] train loss : 0.22759723663330078 | test loss : 0.2173614203929901 | BLER : 0.07499999552965164\n",
      "[9000/30000] train loss : 0.21630875766277313 | test loss : 0.21524563431739807 | BLER : 0.07880000025033951\n",
      "[10000/30000] train loss : 0.20197328925132751 | test loss : 0.19399885833263397 | BLER : 0.07019999623298645\n",
      "[11000/30000] train loss : 0.1931959092617035 | test loss : 0.20463648438453674 | BLER : 0.07840000092983246\n",
      "[12000/30000] train loss : 0.20209182798862457 | test loss : 0.21068120002746582 | BLER : 0.07819999754428864\n",
      "[13000/30000] train loss : 0.20317652821540833 | test loss : 0.18957965075969696 | BLER : 0.07039999961853027\n",
      "[14000/30000] train loss : 0.20670254528522491 | test loss : 0.19788552820682526 | BLER : 0.07999999821186066\n",
      "[15000/30000] train loss : 0.20185774564743042 | test loss : 0.20299221575260162 | BLER : 0.07919999957084656\n",
      "[16000/30000] train loss : 0.20523981750011444 | test loss : 0.19410310685634613 | BLER : 0.07639999687671661\n",
      "[17000/30000] train loss : 0.19654247164726257 | test loss : 0.20523546636104584 | BLER : 0.07739999890327454\n",
      "[18000/30000] train loss : 0.21332275867462158 | test loss : 0.20220699906349182 | BLER : 0.07259999960660934\n",
      "[19000/30000] train loss : 0.1949121356010437 | test loss : 0.19296765327453613 | BLER : 0.07559999823570251\n",
      "[20000/30000] train loss : 0.18783411383628845 | test loss : 0.20301316678524017 | BLER : 0.0729999989271164\n",
      "[21000/30000] train loss : 0.19132260978221893 | test loss : 0.20100811123847961 | BLER : 0.0811999961733818\n",
      "[22000/30000] train loss : 0.1915430724620819 | test loss : 0.19895054399967194 | BLER : 0.07339999824762344\n",
      "[23000/30000] train loss : 0.19529680907726288 | test loss : 0.1937185674905777 | BLER : 0.07099999487400055\n",
      "[24000/30000] train loss : 0.2018585503101349 | test loss : 0.20589999854564667 | BLER : 0.0737999975681305\n",
      "[25000/30000] train loss : 0.20184315741062164 | test loss : 0.20592451095581055 | BLER : 0.07639999687671661\n",
      "[26000/30000] train loss : 0.18532559275627136 | test loss : 0.19159510731697083 | BLER : 0.0697999969124794\n",
      "[27000/30000] train loss : 0.20253078639507294 | test loss : 0.20027974247932434 | BLER : 0.07620000094175339\n",
      "[28000/30000] train loss : 0.19098778069019318 | test loss : 0.19584137201309204 | BLER : 0.07499999552965164\n",
      "[29000/30000] train loss : 0.19835470616817474 | test loss : 0.19855448603630066 | BLER : 0.07660000026226044\n"
     ]
    }
   ],
   "source": [
    "train_losses = []\n",
    "test_losses = []\n",
    "BLER = []\n",
    "best_test_loss = 1\n",
    "\n",
    "for epoch in range(num_epochs):\n",
    "    encoder.train()\n",
    "    decoder.train()\n",
    "    \n",
    "    train_loss = 0\n",
    "    test_loss = 0\n",
    "    a = 0\n",
    "\n",
    "    optimizer.zero_grad()\n",
    "\n",
    "    while a != M:\n",
    "        msg = torch.randint(0, M, (num_msgs,))#msg\n",
    "        a = torch.max(msg) + 1\n",
    "\n",
    "    msg = msg.to(device)\n",
    "    \n",
    "    s = one_hot_encoding(msg) #s\n",
    "    encoded_s = encoder(s)  #x\n",
    "    x = Normalization(encoded_s)\n",
    "    y = Awgn(x, N)    #y\n",
    "    p = decoder(y)\n",
    "    \n",
    "    loss = criterion(p, msg)\n",
    "\n",
    "    train_loss += loss.item()\n",
    "    train_losses.append(train_loss)\n",
    "\n",
    "    loss.backward()\n",
    "    optimizer.step()\n",
    "\n",
    "\n",
    "    with torch.no_grad():\n",
    "        a = 0\n",
    "        err = 0\n",
    "\n",
    "        while a != M:\n",
    "            test_msg = torch.randint(0, M, (num_msgs,))#msg\n",
    "            a = torch.max(test_msg) + 1\n",
    "\n",
    "        test_msg = test_msg.to(device)\n",
    "\n",
    "        test_s = one_hot_encoding(test_msg) #s\n",
    "        test_encoded_s = encoder(test_s)  #x\n",
    "        test_x = Normalization(test_encoded_s)\n",
    "        test_y = Awgn(test_x, N)    #y\n",
    "        test_p = decoder(test_y)\n",
    "\n",
    "        loss = criterion(test_p, test_msg)\n",
    "\n",
    "        test_loss += loss.item()\n",
    "        test_losses.append(test_loss)\n",
    "\n",
    "        if test_loss < best_test_loss:\n",
    "            best_test_loss = test_loss\n",
    "            torch.save(encoder.state_dict(), ENC_MODEL_PATH)\n",
    "            torch.save(decoder.state_dict(), DEC_MODEL_PATH)\n",
    "            \n",
    "\n",
    "    if epoch % 1000 == 0:\n",
    "        p_soft = Softmax(test_p)\n",
    "        s_hat = one_hot_decoding(p_soft)\n",
    "        err = torch.sum(torch.abs(test_s - s_hat))/2\n",
    "\n",
    "        print(f\"[{epoch}/{num_epochs}] train loss : {train_loss} | test loss : {test_loss} | BLER : {err/num_msgs}\")"
   ]
  },
  {
   "cell_type": "code",
   "execution_count": 15,
   "metadata": {},
   "outputs": [
    {
     "data": {
      "image/png": "[encoded data removed]",
      "text/plain": [
       "<Figure size 432x288 with 1 Axes>"
      ]
     },
     "metadata": {
      "needs_background": "light"
     },
     "output_type": "display_data"
    }
   ],
   "source": [
    "plt.plot(train_losses, label = \"train\")\n",
    "plt.plot(test_losses, label = \"test\")\n",
    "\n",
    "plt.title(\"train & test loss\")\n",
    "plt.legend()\n",
    "plt.grid()\n",
    "\n",
    "plt.show()\n"
   ]
  },
  {
   "cell_type": "markdown",
   "metadata": {},
   "source": [
    "***Constellation Points***"
   ]
  },
  {
   "cell_type": "code",
   "execution_count": 16,
   "metadata": {},
   "outputs": [
    {
     "name": "stdout",
     "output_type": "stream",
     "text": [
      "[[-0.23743759  0.9714028 ]\n",
      " [ 0.26615342 -0.96393067]\n",
      " [ 0.95844775  0.28526825]\n",
      " ...\n",
      " [ 0.95844775  0.28526825]\n",
      " [-0.23743759  0.9714028 ]\n",
      " [ 0.95844775  0.28526825]]\n"
     ]
    },
    {
     "data": {
      "image/png": "[encoded data removed]",
      "text/plain": [
       "<Figure size 432x288 with 1 Axes>"
      ]
     },
     "metadata": {
      "needs_background": "light"
     },
     "output_type": "display_data"
    }
   ],
   "source": [
    "s = one_hot_encoding(msg) #s\n",
    "encoded_s = encoder(s)  #x\n",
    "x = Normalization(encoded_s)\n",
    "\n",
    "x = x.cpu().detach().numpy()\n",
    "print(x)\n",
    "plt.scatter(x[:, 0], x[:, 1])\n",
    "plt.show()"
   ]
  },
  {
   "cell_type": "code",
   "execution_count": null,
   "metadata": {},
   "outputs": [],
   "source": []
  }
 ],
 "metadata": {
  "interpreter": {
   "hash": "36b28c691283740da8fac429d25fdbdfa5fc153c522ef0a5c3318a9b3b280dc3"
  },
  "kernelspec": {
   "display_name": "Python 3.8.8 64-bit ('base': conda)",
   "language": "python",
   "name": "python3"
  },
  "language_info": {
   "codemirror_mode": {
    "name": "ipython",
    "version": 3
   },
   "file_extension": ".py",
   "mimetype": "text/x-python",
   "name": "python",
   "nbconvert_exporter": "python",
   "pygments_lexer": "ipython3",
   "version": "3.8.8"
  },
  "orig_nbformat": 4
 },
 "nbformat": 4,
 "nbformat_minor": 2
}
